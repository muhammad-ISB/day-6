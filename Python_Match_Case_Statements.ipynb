{
  "nbformat": 4,
  "nbformat_minor": 0,
  "metadata": {
    "colab": {
      "provenance": []
    },
    "kernelspec": {
      "name": "python3",
      "display_name": "Python 3"
    },
    "language_info": {
      "name": "python"
    }
  },
  "cells": [
    {
      "cell_type": "code",
      "execution_count": 1,
      "metadata": {
        "colab": {
          "base_uri": "https://localhost:8080/"
        },
        "id": "gPLTDN5i-r5z",
        "outputId": "3de4a22d-ceb5-462b-a8f6-657b4bd84275"
      },
      "outputs": [
        {
          "output_type": "stream",
          "name": "stdout",
          "text": [
            "5\n"
          ]
        }
      ],
      "source": [
        "# matching integers\n",
        "\n",
        "position = 5\n",
        "print(position)"
      ]
    },
    {
      "cell_type": "code",
      "source": [
        "position = 15\n",
        "match position:\n",
        "  case 1:\n",
        "    print('sunday')\n",
        "  case 2:\n",
        "    print('monday')\n",
        "  case 3:\n",
        "    print('tuesday')\n",
        "  case 4:\n",
        "    print('wednesday')\n",
        "  case 5:\n",
        "    print('thursday')\n",
        "  case 6:\n",
        "    print('friday')\n",
        "  case 7:\n",
        "    print('saturday')\n",
        "  case _:\n",
        "    print(\"Unokwn Position\")"
      ],
      "metadata": {
        "colab": {
          "base_uri": "https://localhost:8080/"
        },
        "id": "hN02ZsIA-yQF",
        "outputId": "7fa49a9a-70ed-477a-e375-ace1bd694378"
      },
      "execution_count": 3,
      "outputs": [
        {
          "output_type": "stream",
          "name": "stdout",
          "text": [
            "thursday\n"
          ]
        }
      ]
    },
    {
      "cell_type": "code",
      "source": [
        "position = 15\n",
        "match position:\n",
        "  case 1:\n",
        "    print('sunday')\n",
        "  case 2:\n",
        "    print('monday')\n",
        "  case 3:\n",
        "    print('tuesday')\n",
        "  case 4:\n",
        "    print('wednesday')\n",
        "  case 5:\n",
        "    print('thursday')\n",
        "  case 6:\n",
        "    print('friday')\n",
        "  case 7:\n",
        "    print('saturday')\n",
        "  case _:\n",
        "    print(\"Unokwn Position\")"
      ],
      "metadata": {
        "colab": {
          "base_uri": "https://localhost:8080/"
        },
        "id": "OmKwR_Q3-yS1",
        "outputId": "f937b6e2-7c22-44c4-b241-2502f6bff16a"
      },
      "execution_count": 4,
      "outputs": [
        {
          "output_type": "stream",
          "name": "stdout",
          "text": [
            "Unokwn Position\n"
          ]
        }
      ]
    },
    {
      "cell_type": "code",
      "source": [
        "position = 1\n",
        "def position_matcher(n):\n",
        "  match position:\n",
        "    case 1:\n",
        "      print('sunday')\n",
        "    case 2:\n",
        "      print('monday')\n",
        "    case 3:\n",
        "      print('tuesday')\n",
        "    case 4:\n",
        "      print('wednesday')\n",
        "    case 5:\n",
        "      print('thursday')\n",
        "    case 6:\n",
        "      print('friday')\n",
        "    case 7:\n",
        "      print('saturday')\n",
        "    case _:\n",
        "      print(\"Unokwn Position\")"
      ],
      "metadata": {
        "id": "OYSziexl-yVl"
      },
      "execution_count": 9,
      "outputs": []
    },
    {
      "cell_type": "code",
      "source": [
        "position_matcher(position)"
      ],
      "metadata": {
        "colab": {
          "base_uri": "https://localhost:8080/"
        },
        "id": "NGMuhB9g-yYc",
        "outputId": "669c1110-4166-463e-e5a5-4756b636750b"
      },
      "execution_count": 11,
      "outputs": [
        {
          "output_type": "stream",
          "name": "stdout",
          "text": [
            "sunday\n"
          ]
        }
      ]
    },
    {
      "cell_type": "code",
      "source": [
        "position = int(input('Enter your position here: '))\n",
        "position_matcher(position)"
      ],
      "metadata": {
        "colab": {
          "base_uri": "https://localhost:8080/"
        },
        "id": "soK4ccPM-ybw",
        "outputId": "23225320-5f1f-4490-a3a6-799fd82265f1"
      },
      "execution_count": 12,
      "outputs": [
        {
          "output_type": "stream",
          "name": "stdout",
          "text": [
            "Enter your position here: 2\n",
            "monday\n"
          ]
        }
      ]
    },
    {
      "cell_type": "code",
      "source": [
        "# matching strings"
      ],
      "metadata": {
        "id": "X-khVQkN-yeI"
      },
      "execution_count": 13,
      "outputs": []
    },
    {
      "cell_type": "code",
      "source": [
        "def player_hof(player_name):\n",
        "  match player_name:\n",
        "    case \"Dhoni\":\n",
        "      print('Dhoni is not in hall of fame')\n",
        "    case \"Kohli\":\n",
        "      print('Kohli is not in hall of fame')\n",
        "    case \"Rohit\":\n",
        "      print('Rohit is not in hall of fame')\n",
        "    case \"Sehwag\":\n",
        "      print('sehwag is hallof fame')\n",
        "    case _:\n",
        "      print(f\"{player_name} isnot in the match case statements \")"
      ],
      "metadata": {
        "id": "SD5r-gC_-yga"
      },
      "execution_count": 16,
      "outputs": []
    },
    {
      "cell_type": "code",
      "source": [
        "player_hof(\"Dhoni\")"
      ],
      "metadata": {
        "colab": {
          "base_uri": "https://localhost:8080/"
        },
        "id": "5kT_h6M2-yi7",
        "outputId": "c8a4d95a-e7be-4dcf-a865-51e23995201f"
      },
      "execution_count": 17,
      "outputs": [
        {
          "output_type": "stream",
          "name": "stdout",
          "text": [
            "Dhoni is not in hall of fame\n"
          ]
        }
      ]
    },
    {
      "cell_type": "code",
      "source": [
        "player_hof(\"ABD \")"
      ],
      "metadata": {
        "colab": {
          "base_uri": "https://localhost:8080/"
        },
        "id": "T-Voj7_F-yl1",
        "outputId": "95eb1162-0e3b-4f36-e11c-464a2e0d7576"
      },
      "execution_count": 18,
      "outputs": [
        {
          "output_type": "stream",
          "name": "stdout",
          "text": [
            "ABD  isnot in the match case statements \n"
          ]
        }
      ]
    },
    {
      "cell_type": "code",
      "source": [
        "# math operations == , < , > etc"
      ],
      "metadata": {
        "id": "yhq7UoiB-yop"
      },
      "execution_count": 19,
      "outputs": []
    },
    {
      "cell_type": "code",
      "source": [
        "def hits_player(lifetime_hits):\n",
        "  match lifetime_hits:\n",
        "    case x if x >= 4000:\n",
        "      print('One of the greatest')\n",
        "    case x if 3000 <= x < 4000:\n",
        "      print(' one of the good players')\n",
        "    case x if 2000 <= x < 3000:\n",
        "      print('one of the average players')\n",
        "    case x if 1000 <= x < 2000:\n",
        "      print('one of the poor players')\n",
        "    case x if x < 0:\n",
        "      print(f\" {x} invalid input\")\n",
        "    case _:\n",
        "      print('one of the not listed player')"
      ],
      "metadata": {
        "id": "ZCfKRhN7-yrV"
      },
      "execution_count": 26,
      "outputs": []
    },
    {
      "cell_type": "code",
      "source": [
        "hits_player(3599)"
      ],
      "metadata": {
        "colab": {
          "base_uri": "https://localhost:8080/"
        },
        "id": "myIM-gXF-ytz",
        "outputId": "77ad02a5-00ad-4730-b3ac-f8fda621d32a"
      },
      "execution_count": 29,
      "outputs": [
        {
          "output_type": "stream",
          "name": "stdout",
          "text": [
            " one of the good players\n"
          ]
        }
      ]
    },
    {
      "cell_type": "code",
      "source": [
        "hits_player(8000)"
      ],
      "metadata": {
        "colab": {
          "base_uri": "https://localhost:8080/"
        },
        "id": "Kw2EuiCDFyHI",
        "outputId": "58b98686-43c7-415d-de8e-d7ac2a8c299b"
      },
      "execution_count": 28,
      "outputs": [
        {
          "output_type": "stream",
          "name": "stdout",
          "text": [
            "One of the greatest\n"
          ]
        }
      ]
    },
    {
      "cell_type": "code",
      "source": [
        "hits_player(8)"
      ],
      "metadata": {
        "colab": {
          "base_uri": "https://localhost:8080/"
        },
        "id": "MTF-mJPeFyKw",
        "outputId": "db3baa2c-593d-4310-baf9-f56828becfe6"
      },
      "execution_count": 30,
      "outputs": [
        {
          "output_type": "stream",
          "name": "stdout",
          "text": [
            "one of the not listed player\n"
          ]
        }
      ]
    },
    {
      "cell_type": "code",
      "source": [
        "hits_player(-1)"
      ],
      "metadata": {
        "colab": {
          "base_uri": "https://localhost:8080/"
        },
        "id": "HbvYEGWSFyOL",
        "outputId": "20d166ea-cf23-4f65-b571-c68fe2f09313"
      },
      "execution_count": 31,
      "outputs": [
        {
          "output_type": "stream",
          "name": "stdout",
          "text": [
            " -1 invalid input\n"
          ]
        }
      ]
    },
    {
      "cell_type": "code",
      "source": [
        "# tuples"
      ],
      "metadata": {
        "id": "ZHNGCAR-FyRa"
      },
      "execution_count": null,
      "outputs": []
    },
    {
      "cell_type": "code",
      "source": [
        "def hitting_player(total_runs, matches_won):\n",
        "  match total_runs, matches_won:\n",
        "    case (x, y) if x >= 4000 or y >= 100:\n",
        "      print('One of the greatest')\n",
        "    case (x, y) if x >= 3000 or y >= 75:\n",
        "      print('Excellent player')\n",
        "    case (x, y) if x >= 2000 or y >= 50:\n",
        "      print('Good player')\n",
        "    case (x, y) if x >= 1000 or y >= 25:\n",
        "      print('Average player')\n",
        "    case (x, y) if x < 0 or y < 0:\n",
        "      print(f\" {x} or {y} invalid input\")\n",
        "    case (x, y):\n",
        "      print('Needs improvement')\n",
        "    case _:\n",
        "      print('one of the not listed player')"
      ],
      "metadata": {
        "id": "RxDSsCl8Gnya"
      },
      "execution_count": 36,
      "outputs": []
    },
    {
      "cell_type": "code",
      "source": [
        "hitting_player(4500, 120)"
      ],
      "metadata": {
        "colab": {
          "base_uri": "https://localhost:8080/"
        },
        "id": "RmMVZVsnGn0n",
        "outputId": "7e36f5fc-2e70-497e-da20-79434ae1b8d4"
      },
      "execution_count": 37,
      "outputs": [
        {
          "output_type": "stream",
          "name": "stdout",
          "text": [
            "One of the greatest\n"
          ]
        }
      ]
    },
    {
      "cell_type": "code",
      "source": [
        "hitting_player(125, -120)"
      ],
      "metadata": {
        "colab": {
          "base_uri": "https://localhost:8080/"
        },
        "id": "P0U-41_tGn3R",
        "outputId": "6d270847-e757-4b09-9e9a-440942b00e6e"
      },
      "execution_count": 38,
      "outputs": [
        {
          "output_type": "stream",
          "name": "stdout",
          "text": [
            " 125 or -120 invalid input\n"
          ]
        }
      ]
    },
    {
      "cell_type": "code",
      "source": [
        "hitting_player(1,0)"
      ],
      "metadata": {
        "colab": {
          "base_uri": "https://localhost:8080/"
        },
        "id": "9LsW1AY5Gn54",
        "outputId": "384eddbd-ff05-4e16-8d7f-675e8a780f97"
      },
      "execution_count": 39,
      "outputs": [
        {
          "output_type": "stream",
          "name": "stdout",
          "text": [
            "Needs improvement\n"
          ]
        }
      ]
    },
    {
      "cell_type": "code",
      "source": [
        "# Dictionaries"
      ],
      "metadata": {
        "id": "PFLUYT2gGn9N"
      },
      "execution_count": null,
      "outputs": []
    },
    {
      "cell_type": "code",
      "source": [
        "cricket_player = {'player': {'name': 'Dhoni', 'number': 11, 'position': 'right-hand bat'}}\n",
        "\n",
        "match cricket_player:\n",
        "  case {'player': {'name': name, 'number': number, 'position': position}}:\n",
        "    print(f\"Name: {name}, Number: {number}, Position: {position}\")\n",
        "  case _:\n",
        "    print('unknown data')\n"
      ],
      "metadata": {
        "colab": {
          "base_uri": "https://localhost:8080/"
        },
        "id": "eWNfa_NtGn_2",
        "outputId": "8fa0ed77-6669-4009-f561-74d3dc7f986c"
      },
      "execution_count": 40,
      "outputs": [
        {
          "output_type": "stream",
          "name": "stdout",
          "text": [
            "Name: Dhoni, Number: 11, Position: right-hand bat\n"
          ]
        }
      ]
    },
    {
      "cell_type": "code",
      "source": [
        "# lists\n",
        "\n",
        "def describe_roster(roster):\n",
        "  match roster:\n",
        "    case []:\n",
        "      return 'no players on the roster'\n",
        "    case [player]:\n",
        "      return f\"on of the players in the roster {player}\"\n",
        "    case [player1, player2]:\n",
        "      return f\"two players on the roster {player1}, {player2}\"\n",
        "    case [player1, player2, *others]:\n",
        "      return f\"three players on the roster  {player1}, {player2}, and {len(others)} more\"\n",
        "    case _:\n",
        "      return 'unknown data'\n",
        "\n",
        "\n",
        "roster1 = []\n",
        "roster2 = ['Dhoni']\n",
        "roster3 = ['Dhoni', 'Kohli']\n",
        "roster4 = ['Dhoni', 'Kohli', 'Rohit']"
      ],
      "metadata": {
        "id": "8tx4FGhfGoDq"
      },
      "execution_count": 45,
      "outputs": []
    },
    {
      "cell_type": "code",
      "source": [
        "describe_roster(roster1)"
      ],
      "metadata": {
        "colab": {
          "base_uri": "https://localhost:8080/",
          "height": 36
        },
        "id": "02a_wR05GoFz",
        "outputId": "e87d9033-df24-446b-a7f8-7c64f6a867f3"
      },
      "execution_count": 46,
      "outputs": [
        {
          "output_type": "execute_result",
          "data": {
            "text/plain": [
              "'no players on the roster'"
            ],
            "application/vnd.google.colaboratory.intrinsic+json": {
              "type": "string"
            }
          },
          "metadata": {},
          "execution_count": 46
        }
      ]
    },
    {
      "cell_type": "code",
      "source": [
        "describe_roster(roster4)"
      ],
      "metadata": {
        "colab": {
          "base_uri": "https://localhost:8080/",
          "height": 36
        },
        "id": "_mMwfXmFGoJP",
        "outputId": "b0076ed3-03c5-416a-ca6e-eadddd336ecb"
      },
      "execution_count": 47,
      "outputs": [
        {
          "output_type": "execute_result",
          "data": {
            "text/plain": [
              "'three players on the roster  Dhoni, Kohli, and 1 more'"
            ],
            "application/vnd.google.colaboratory.intrinsic+json": {
              "type": "string"
            }
          },
          "metadata": {},
          "execution_count": 47
        }
      ]
    },
    {
      "cell_type": "code",
      "source": [],
      "metadata": {
        "id": "ymuBKJTdFyUY"
      },
      "execution_count": null,
      "outputs": []
    },
    {
      "cell_type": "code",
      "source": [],
      "metadata": {
        "id": "uZzTHtsfFyXp"
      },
      "execution_count": null,
      "outputs": []
    },
    {
      "cell_type": "code",
      "source": [],
      "metadata": {
        "id": "_Nt3NAHn-ywL"
      },
      "execution_count": null,
      "outputs": []
    },
    {
      "cell_type": "code",
      "source": [],
      "metadata": {
        "id": "hy0OXmz4-yzn"
      },
      "execution_count": null,
      "outputs": []
    }
  ]
}