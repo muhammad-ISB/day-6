{
 "cells": [
  {
   "cell_type": "code",
   "execution_count": 32,
   "metadata": {
    "collapsed": true
   },
   "outputs": [],
   "source": [
    "# empty list\n",
    "my_list = []\n",
    "\n",
    "# list of integers\n",
    "my_list = [1, 2, 3]\n",
    "\n",
    "# list with mixed datatypes\n",
    "my_list = [1, \"Hello\", 3.4]\n",
    "\n",
    "# nested list\n",
    "n_list = [\"Happy\", [2,0,1,5]]"
   ]
  },
  {
   "cell_type": "code",
   "execution_count": 12,
   "metadata": {},
   "outputs": [
    {
     "data": {
      "text/plain": [
       "int"
      ]
     },
     "execution_count": 12,
     "metadata": {},
     "output_type": "execute_result"
    }
   ],
   "source": [
    "name = 5\n",
    "type(name)"
   ]
  },
  {
   "cell_type": "code",
   "execution_count": 4,
   "metadata": {},
   "outputs": [
    {
     "name": "stdout",
     "output_type": "stream",
     "text": [
      "I have 4 items to purchase.\n"
     ]
    }
   ],
   "source": [
    "shoplist = ['apple', 'mango', 'carrot', 'banana']\n",
    "print('I have', len(shoplist), 'items to purchase.')"
   ]
  },
  {
   "cell_type": "code",
   "execution_count": 5,
   "metadata": {},
   "outputs": [
    {
     "name": "stdout",
     "output_type": "stream",
     "text": [
      "These items are: "
     ]
    }
   ],
   "source": [
    "print('These items are:', end=' ')"
   ]
  },
  {
   "cell_type": "code",
   "execution_count": null,
   "metadata": {},
   "outputs": [],
   "source": [
    "print()"
   ]
  },
  {
   "cell_type": "code",
   "execution_count": 8,
   "metadata": {},
   "outputs": [
    {
     "name": "stdout",
     "output_type": "stream",
     "text": [
      "aayushi\n",
      "data science\n"
     ]
    }
   ],
   "source": [
    "print(\"aayushi\")\n",
    "print (\"data science\")"
   ]
  },
  {
   "cell_type": "code",
   "execution_count": 9,
   "metadata": {},
   "outputs": [
    {
     "name": "stdout",
     "output_type": "stream",
     "text": [
      "aayushi data science\n"
     ]
    }
   ],
   "source": [
    "print(\"aayushi\",end = \" \")\n",
    "print (\"data science\")"
   ]
  },
  {
   "cell_type": "code",
   "execution_count": 6,
   "metadata": {},
   "outputs": [
    {
     "name": "stdout",
     "output_type": "stream",
     "text": [
      "apple mango carrot banana "
     ]
    }
   ],
   "source": [
    "for item in shoplist:\n",
    "    print(item, end=' ')"
   ]
  },
  {
   "cell_type": "code",
   "execution_count": 10,
   "metadata": {},
   "outputs": [
    {
     "name": "stdout",
     "output_type": "stream",
     "text": [
      "apple\n",
      "mango\n",
      "carrot\n",
      "banana\n"
     ]
    }
   ],
   "source": [
    "for item in shoplist:\n",
    "    print(item)"
   ]
  },
  {
   "cell_type": "code",
   "execution_count": 11,
   "metadata": {},
   "outputs": [
    {
     "name": "stdout",
     "output_type": "stream",
     "text": [
      "These items are: apple mango carrot banana "
     ]
    }
   ],
   "source": [
    "print('These items are:', end=' ')\n",
    "for item in shoplist:\n",
    "    print(item, end=' ')"
   ]
  },
  {
   "cell_type": "code",
   "execution_count": 34,
   "metadata": {},
   "outputs": [
    {
     "name": "stdout",
     "output_type": "stream",
     "text": [
      "Welcome to GeeksforGeeks "
     ]
    }
   ],
   "source": [
    "# By default python’s print() function ends with a newline. \n",
    "# how to print without newline.\n",
    "\n",
    "# Python’s print() function comes with a parameter called ‘end’. \n",
    "# By default, the value of this parameter is ‘\\n’, i.e. the new line character. \n",
    "# You can end a print statement with any character/string using this parameter.\n",
    "# ends the output with a <space> \n",
    "print(\"Welcome to\" , end = ' ') \n",
    "print(\"GeeksforGeeks\", end = ' ')"
   ]
  },
  {
   "cell_type": "code",
   "execution_count": 13,
   "metadata": {},
   "outputs": [
    {
     "data": {
      "text/plain": [
       "['apple', 'mango', 'carrot', 'banana']"
      ]
     },
     "execution_count": 13,
     "metadata": {},
     "output_type": "execute_result"
    }
   ],
   "source": [
    "shoplist"
   ]
  },
  {
   "cell_type": "code",
   "execution_count": 14,
   "metadata": {},
   "outputs": [
    {
     "name": "stdout",
     "output_type": "stream",
     "text": [
      "\n",
      "I also have to buy rice.\n",
      "My shopping list is now ['apple', 'mango', 'carrot', 'banana', 'rice']\n",
      "My shopping list is now ['apple', 'mango', 'carrot', 'banana', 'rice', 'table', 'chair', 'pen']\n",
      "My shopping list is now ['apple', 'mango', 'carrot', 'banana', 'rice', 'table', 'chair', 'pen', 'a', 'b', 'c']\n"
     ]
    }
   ],
   "source": [
    "# append to list\n",
    "# add one item to a list using append() method or \n",
    "# add several items using extend()\n",
    "print('\\nI also have to buy rice.')\n",
    "shoplist.append('rice')\n",
    "print('My shopping list is now', shoplist)\n",
    "\n",
    "shoplist.extend(['table', 'chair', 'pen'])\n",
    "print('My shopping list is now', shoplist)\n",
    "\n",
    "# use + operator to combine two lists. This is also called concatenation.\n",
    "shoplist1 = ['a', 'b', 'c']\n",
    "\n",
    "shoplist = shoplist + shoplist1\n",
    "print('My shopping list is now', shoplist)"
   ]
  },
  {
   "cell_type": "code",
   "execution_count": 15,
   "metadata": {},
   "outputs": [
    {
     "data": {
      "text/plain": [
       "['kiwi',\n",
       " 'apple',\n",
       " 'mango',\n",
       " 'carrot',\n",
       " 'banana',\n",
       " 'rice',\n",
       " 'table',\n",
       " 'chair',\n",
       " 'pen',\n",
       " 'a',\n",
       " 'b',\n",
       " 'c']"
      ]
     },
     "execution_count": 15,
     "metadata": {},
     "output_type": "execute_result"
    }
   ],
   "source": [
    "a = ['kiwi']\n",
    "a + shoplist"
   ]
  },
  {
   "cell_type": "code",
   "execution_count": 17,
   "metadata": {},
   "outputs": [
    {
     "name": "stdout",
     "output_type": "stream",
     "text": [
      "['apple', 'mango', 'carrot', 'banana', 'rice', 'table', 'chair', 'pen', 'a', 'b', 'c']\n"
     ]
    }
   ],
   "source": [
    "print(shoplist)"
   ]
  },
  {
   "cell_type": "code",
   "execution_count": 19,
   "metadata": {},
   "outputs": [
    {
     "name": "stdout",
     "output_type": "stream",
     "text": [
      "apple\n",
      "mango\n"
     ]
    }
   ],
   "source": [
    "# accessing a list\n",
    "print(shoplist[0])\n",
    "print(shoplist[1])"
   ]
  },
  {
   "cell_type": "code",
   "execution_count": 20,
   "metadata": {},
   "outputs": [
    {
     "name": "stdout",
     "output_type": "stream",
     "text": [
      "c\n",
      "chair\n"
     ]
    }
   ],
   "source": [
    "# Negative indexing\n",
    "# Python allows negative indexing for its sequences. \n",
    "# The index of -1 refers to the last item, -2 to the second last item and so on.\n",
    "print(shoplist[-1])\n",
    "print(shoplist[-5])"
   ]
  },
  {
   "cell_type": "code",
   "execution_count": 22,
   "metadata": {},
   "outputs": [
    {
     "name": "stdout",
     "output_type": "stream",
     "text": [
      "['apple', 'mango', 'carrot', 'banana', 'rice', 'table', 'chair', 'pen', 'a', 'b', 'c']\n"
     ]
    }
   ],
   "source": [
    "print(shoplist)"
   ]
  },
  {
   "cell_type": "code",
   "execution_count": 23,
   "metadata": {},
   "outputs": [
    {
     "name": "stdout",
     "output_type": "stream",
     "text": [
      "['apple', 'mango', 'carrot']\n",
      "['carrot', 'banana', 'rice', 'table', 'chair', 'pen', 'a', 'b', 'c']\n",
      "['apple', 'mango', 'carrot', 'banana', 'rice', 'table', 'chair', 'pen', 'a', 'b', 'c']\n"
     ]
    }
   ],
   "source": [
    "# slice lists \n",
    "# elements beginning to 3rd\n",
    "print(shoplist[:3])\n",
    "\n",
    "# elements 2nd to end\n",
    "print(shoplist[2:])\n",
    "\n",
    "# elements beginning to end\n",
    "print(shoplist[:])"
   ]
  },
  {
   "cell_type": "code",
   "execution_count": 24,
   "metadata": {},
   "outputs": [
    {
     "name": "stdout",
     "output_type": "stream",
     "text": [
      "['apple', 'mango', 'carrot', 'banana', 'rice', 'table', 'chair', 'pen', 'a', 'b', 'c']\n"
     ]
    }
   ],
   "source": [
    "print(shoplist)"
   ]
  },
  {
   "cell_type": "code",
   "execution_count": 29,
   "metadata": {},
   "outputs": [
    {
     "name": "stdout",
     "output_type": "stream",
     "text": [
      "I will sort my list now\n",
      "Sorted shopping list is ['a', 'b', 'banana', 'c', 'carrot', 'chair', 'mango', 'new item', 'pen', 'rice', 'table']\n"
     ]
    }
   ],
   "source": [
    "# sort the list\n",
    "print('I will sort my list now')\n",
    "shoplist.sort()\n",
    "print('Sorted shopping list is', shoplist)"
   ]
  },
  {
   "cell_type": "code",
   "execution_count": 28,
   "metadata": {},
   "outputs": [
    {
     "name": "stdout",
     "output_type": "stream",
     "text": [
      "['a', 'b', 'banana', 'c', 'carrot', 'chair', 'mango', 'new item', 'pen', 'rice', 'table']\n"
     ]
    }
   ],
   "source": [
    "print(sorted(shoplist))"
   ]
  },
  {
   "cell_type": "code",
   "execution_count": 33,
   "metadata": {},
   "outputs": [
    {
     "name": "stdout",
     "output_type": "stream",
     "text": [
      "None\n",
      "-------------------------\n",
      "['a', 'aa', 'b', 'c']\n"
     ]
    }
   ],
   "source": [
    "newlist = ['c','a','b','aa']\n",
    "print(newlist.sort())\n",
    "print(\"-------------------------\")\n",
    "print(sorted(newlist))"
   ]
  },
  {
   "cell_type": "code",
   "execution_count": null,
   "metadata": {
    "collapsed": true
   },
   "outputs": [],
   "source": []
  },
  {
   "cell_type": "code",
   "execution_count": 26,
   "metadata": {},
   "outputs": [
    {
     "name": "stdout",
     "output_type": "stream",
     "text": [
      "['a', 'new item', 'b', 'banana', 'c', 'carrot', 'chair', 'mango', 'pen', 'rice', 'table']\n"
     ]
    }
   ],
   "source": [
    "# make changes to list\n",
    "shoplist[1] = \"new item\"\n",
    "print(shoplist[:])"
   ]
  },
  {
   "cell_type": "code",
   "execution_count": 34,
   "metadata": {},
   "outputs": [
    {
     "name": "stdout",
     "output_type": "stream",
     "text": [
      "The first item I will buy is a\n",
      "I bought the a\n",
      "My shopping list is now ['b', 'banana', 'c', 'carrot', 'chair', 'mango', 'new item', 'pen', 'rice', 'table']\n"
     ]
    }
   ],
   "source": [
    "# delete a list item\n",
    "print('The first item I will buy is', shoplist[0])\n",
    "olditem = shoplist[0]\n",
    "del shoplist[0]\n",
    "print('I bought the', olditem)\n",
    "print('My shopping list is now', shoplist)"
   ]
  },
  {
   "cell_type": "code",
   "execution_count": null,
   "metadata": {
    "collapsed": true
   },
   "outputs": [],
   "source": [
    "# Python List Methods\n",
    "# Methods that are available with list object \n",
    "\n",
    "# Are accessed as list.method(). \n",
    "'''\n",
    "append() - Add an element to the end of the list\n",
    "extend() - Add all elements of a list to the another list\n",
    "insert() - Insert an item at the defined index\n",
    "remove() - Removes an item from the list\n",
    "pop() - Removes and returns an element at the given index\n",
    "clear() - Removes all items from the list\n",
    "index() - Returns the index of the first matched item\n",
    "count() - Returns the count of number of items passed as an argument\n",
    "sort() - Sort items in a list in ascending order\n",
    "reverse() - Reverse the order of items in the list\n",
    "copy() - Returns a shallow copy of the list\n",
    "'''"
   ]
  },
  {
   "cell_type": "code",
   "execution_count": 35,
   "metadata": {},
   "outputs": [
    {
     "name": "stdout",
     "output_type": "stream",
     "text": [
      "My shopping list is now ['b', 'banana', 'INSERTED ITEM', 'c', 'carrot', 'chair', 'mango', 'new item', 'pen', 'rice', 'table']\n"
     ]
    }
   ],
   "source": [
    "# insert() \t\t- Insert an item at the defined index\n",
    "shoplist.insert(2, \"INSERTED ITEM\")\n",
    "print('My shopping list is now', shoplist)"
   ]
  },
  {
   "cell_type": "code",
   "execution_count": 36,
   "metadata": {},
   "outputs": [
    {
     "name": "stdout",
     "output_type": "stream",
     "text": [
      "My shopping list is now ['b', 'banana', 'c', 'carrot', 'chair', 'mango', 'new item', 'pen', 'rice', 'table']\n"
     ]
    }
   ],
   "source": [
    "# remove() - Removes an item from the list\n",
    "shoplist.remove(\"INSERTED ITEM\")\n",
    "print('My shopping list is now', shoplist)"
   ]
  },
  {
   "cell_type": "code",
   "execution_count": 42,
   "metadata": {},
   "outputs": [
    {
     "name": "stdout",
     "output_type": "stream",
     "text": [
      "['banana', 'c', 'carrot', 'chair', 'mango', 'new item', 'pen', 'rice', 'table']\n"
     ]
    },
    {
     "data": {
      "text/plain": [
       "['banana', 'c', 'carrot', 'chair', 'new item', 'pen', 'rice', 'table']"
      ]
     },
     "execution_count": 42,
     "metadata": {},
     "output_type": "execute_result"
    }
   ],
   "source": [
    "print( shoplist)\n",
    "shoplist.remove(\"mango\")\n",
    "shoplist"
   ]
  },
  {
   "cell_type": "code",
   "execution_count": 37,
   "metadata": {},
   "outputs": [
    {
     "name": "stdout",
     "output_type": "stream",
     "text": [
      "My shopping list is now ['banana', 'c', 'carrot', 'chair', 'mango', 'new item', 'pen', 'rice', 'table']\n"
     ]
    }
   ],
   "source": [
    "# pop() - Removes and returns an element at the given index\n",
    "shoplist.pop(0)\n",
    "print('My shopping list is now', shoplist)"
   ]
  },
  {
   "cell_type": "code",
   "execution_count": 38,
   "metadata": {},
   "outputs": [
    {
     "name": "stdout",
     "output_type": "stream",
     "text": [
      "position of matched item is :  8\n"
     ]
    }
   ],
   "source": [
    "# index() - Returns the index of the first matched item\n",
    "pos = shoplist.index('table')\n",
    "print('position of matched item is : ', pos)"
   ]
  },
  {
   "cell_type": "code",
   "execution_count": 39,
   "metadata": {},
   "outputs": [
    {
     "name": "stdout",
     "output_type": "stream",
     "text": [
      "count of matched item is :  1\n"
     ]
    }
   ],
   "source": [
    "# count() - Returns the number of occurances of the matched item\n",
    "cnt = shoplist.count('table')\n",
    "print('count of matched item is : ', cnt)"
   ]
  },
  {
   "cell_type": "code",
   "execution_count": 44,
   "metadata": {},
   "outputs": [
    {
     "name": "stdout",
     "output_type": "stream",
     "text": [
      "[1, 2, 4, 8, 16, 32, 64, 128, 256, 512]\n"
     ]
    }
   ],
   "source": [
    "# creating list of \n",
    "powerList = []\n",
    "for x in range(10):\n",
    "    powerList.append(2 ** x)\n",
    "\n",
    "print(powerList)"
   ]
  },
  {
   "cell_type": "code",
   "execution_count": 45,
   "metadata": {},
   "outputs": [
    {
     "data": {
      "text/plain": [
       "[1, 2, 4, 8, 16, 32, 64, 128, 256, 512]"
      ]
     },
     "execution_count": 45,
     "metadata": {},
     "output_type": "execute_result"
    }
   ],
   "source": [
    "[2 ** x for x in range(10)]"
   ]
  },
  {
   "cell_type": "code",
   "execution_count": 53,
   "metadata": {},
   "outputs": [
    {
     "name": "stdout",
     "output_type": "stream",
     "text": [
      "[64, 128, 256, 512]\n"
     ]
    }
   ],
   "source": [
    "# list comprehension with if \n",
    "powerList = [2 ** x for x in range(10) if x > 5]\n",
    "\n",
    "print(powerList)"
   ]
  },
  {
   "cell_type": "code",
   "execution_count": null,
   "metadata": {
    "collapsed": true
   },
   "outputs": [],
   "source": [
    "# list comprehension\n",
    "# List comprehension consists of an expression followed by for statement \n",
    "# inside squar ** x for x in range(10)e brackets.\n",
    "powerList = [2]"
   ]
  },
  {
   "cell_type": "code",
   "execution_count": 52,
   "metadata": {},
   "outputs": [
    {
     "name": "stdout",
     "output_type": "stream",
     "text": [
      "[2, 8, 32, 128, 512, 2048, 8192, 32768, 131072, 524288]\n"
     ]
    }
   ],
   "source": [
    "# build powerList of odd numbers\n",
    "oddpowerList = [2 ** x for x in range(20) if x % 2 == 1]\n",
    "print(oddpowerList)"
   ]
  },
  {
   "cell_type": "code",
   "execution_count": 54,
   "metadata": {},
   "outputs": [
    {
     "name": "stdout",
     "output_type": "stream",
     "text": [
      "[1, 4, 16, 64, 256, 1024, 4096, 16384, 65536, 262144]\n"
     ]
    }
   ],
   "source": [
    "# build powerList of even numbers\n",
    "evenpowerList = [2 ** x for x in range(20) if x % 2 == 0]\n",
    "print(evenpowerList)"
   ]
  },
  {
   "cell_type": "code",
   "execution_count": 56,
   "metadata": {},
   "outputs": [
    {
     "name": "stdout",
     "output_type": "stream",
     "text": [
      "I like -  new item\n",
      "I like -  carrot\n",
      "I like -  chair\n",
      "I like -  mango\n",
      "I like -  pen\n",
      "I like -  rice\n",
      "I like -  table\n",
      "I like -  rice\n",
      "I like -  table\n",
      "I like -  chair\n",
      "I like -  pen\n",
      "I like -  a\n",
      "I like -  b\n",
      "I like -  c\n"
     ]
    }
   ],
   "source": [
    "# Iterating Through a List\n",
    "for listItem in shoplist:\n",
    "    print(\"I like - \", listItem)"
   ]
  },
  {
   "cell_type": "code",
   "execution_count": 49,
   "metadata": {},
   "outputs": [
    {
     "name": "stdout",
     "output_type": "stream",
     "text": [
      "I like -banana\n",
      "I like -c\n",
      "I like -carrot\n",
      "I like -chair\n",
      "I like -new item\n",
      "I like -pen\n",
      "I like -rice\n",
      "I like -table\n"
     ]
    }
   ],
   "source": [
    "for listItem in shoplist:\n",
    "    print (\"I like -\"+ listItem)"
   ]
  },
  {
   "cell_type": "code",
   "execution_count": null,
   "metadata": {
    "collapsed": true
   },
   "outputs": [],
   "source": [
    "'''\n",
    "Built-in Functions with List\n",
    "all()\tReturn True if all elements of the list are true \n",
    "        (or if the list is empty).\n",
    "any()\tReturn True if any element of the list is true. \n",
    "        If the list is empty, return False.\n",
    "enumerate()\tReturn an enumerate object. It contains the index \n",
    "            and value of all the items of list as a tuple.\n",
    "len()\tReturn the length (the number of items) in the list.\n",
    "list()\tConvert an iterable (tuple, string, set, dictionary) to a list.\n",
    "max()\tReturn the largest item in the list.\n",
    "min()\tReturn the smallest item in the list\n",
    "sorted()\tReturn a new sorted list (does not sort the list itself).\n",
    "sum()\tReturn the sum of all elements in the list.\n",
    "'''"
   ]
  },
  {
   "cell_type": "code",
   "execution_count": 68,
   "metadata": {},
   "outputs": [
    {
     "data": {
      "text/plain": [
       "False"
      ]
     },
     "execution_count": 68,
     "metadata": {},
     "output_type": "execute_result"
    }
   ],
   "source": [
    "lst = [1, 2, 3, 4, 1, 3, 2, False]\n",
    "all(lst)"
   ]
  },
  {
   "cell_type": "code",
   "execution_count": 50,
   "metadata": {},
   "outputs": [
    {
     "name": "stdout",
     "output_type": "stream",
     "text": [
      "[(0, 'bread'), (1, 'milk'), (2, 'butter')]\n"
     ]
    }
   ],
   "source": [
    "# enumerate()\n",
    "grocery = ['bread', 'milk', 'butter']\n",
    "enumerateGrocery = enumerate(grocery)\n",
    "print(list(enumerateGrocery))"
   ]
  },
  {
   "cell_type": "code",
   "execution_count": 52,
   "metadata": {},
   "outputs": [
    {
     "name": "stdout",
     "output_type": "stream",
     "text": [
      "[(100, 'bread'), (101, 'milk'), (102, 'butter')]\n"
     ]
    }
   ],
   "source": [
    "enumerateGrocery = enumerate(grocery, 100)\n",
    "\n",
    "print(list(enumerateGrocery))"
   ]
  },
  {
   "cell_type": "code",
   "execution_count": 53,
   "metadata": {
    "collapsed": true
   },
   "outputs": [],
   "source": [
    "# Looping Over an Enumerate object\n",
    "for item in enumerateGrocery:\n",
    "    print(item)"
   ]
  },
  {
   "cell_type": "code",
   "execution_count": 54,
   "metadata": {},
   "outputs": [
    {
     "data": {
      "text/plain": [
       "3"
      ]
     },
     "execution_count": 54,
     "metadata": {},
     "output_type": "execute_result"
    }
   ],
   "source": [
    "# len()\n",
    "grocery = ['bread', 'milk', 'butter']\n",
    "len(grocery)\n"
   ]
  },
  {
   "cell_type": "code",
   "execution_count": 2,
   "metadata": {},
   "outputs": [
    {
     "data": {
      "text/plain": [
       "'milk'"
      ]
     },
     "execution_count": 2,
     "metadata": {},
     "output_type": "execute_result"
    }
   ],
   "source": [
    "max(grocery)\n"
   ]
  },
  {
   "cell_type": "code",
   "execution_count": 3,
   "metadata": {},
   "outputs": [
    {
     "data": {
      "text/plain": [
       "'bread'"
      ]
     },
     "execution_count": 3,
     "metadata": {},
     "output_type": "execute_result"
    }
   ],
   "source": [
    "min(grocery)"
   ]
  },
  {
   "cell_type": "code",
   "execution_count": 4,
   "metadata": {},
   "outputs": [
    {
     "name": "stdout",
     "output_type": "stream",
     "text": [
      "Help on built-in function print in module builtins:\n",
      "\n",
      "print(...)\n",
      "    print(value, ..., sep=' ', end='\\n', file=sys.stdout, flush=False)\n",
      "    \n",
      "    Prints the values to a stream, or to sys.stdout by default.\n",
      "    Optional keyword arguments:\n",
      "    file:  a file-like object (stream); defaults to the current sys.stdout.\n",
      "    sep:   string inserted between values, default a space.\n",
      "    end:   string appended after the last value, default a newline.\n",
      "    flush: whether to forcibly flush the stream.\n",
      "\n"
     ]
    }
   ],
   "source": []
  },
  {
   "cell_type": "code",
   "execution_count": null,
   "metadata": {},
   "outputs": [],
   "source": [
    "import itertools"
   ]
  },
  {
   "cell_type": "code",
   "execution_count": null,
   "metadata": {},
   "outputs": [],
   "source": [
    "nested_list = [[1],[2,3],[4,5,6]]"
   ]
  },
  {
   "cell_type": "code",
   "execution_count": null,
   "metadata": {},
   "outputs": [],
   "source": [
    "flat_list = list(itertools.chain.from_iterable(nested_list))"
   ]
  },
  {
   "cell_type": "code",
   "execution_count": null,
   "metadata": {},
   "outputs": [],
   "source": [
    "flat_list"
   ]
  }
 ],
 "metadata": {
  "kernelspec": {
   "display_name": "Python 3",
   "language": "python",
   "name": "python3"
  },
  "language_info": {
   "codemirror_mode": {
    "name": "ipython",
    "version": 3
   },
   "file_extension": ".py",
   "mimetype": "text/x-python",
   "name": "python",
   "nbconvert_exporter": "python",
   "pygments_lexer": "ipython3",
   "version": "3.7.4"
  }
 },
 "nbformat": 4,
 "nbformat_minor": 2
}
